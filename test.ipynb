{
 "cells": [
  {
   "cell_type": "code",
   "execution_count": null,
   "metadata": {},
   "outputs": [],
   "source": [
    "import argilla as rg\n",
    "\n",
    "client = rg.Argilla(\n",
    "    api_url=\"https://nweaver412-my-argilla.hf.space\",\n",
    "    api_key=\"e-EI4GgHUvckehfQh53SuCGMrhqwmXba45pc2CU5Doiu6sPLlg1V3QlZ2pkpAcKpyIdkxiBRZXwd4rVWguv6H8dSK8SEOc8_msYVkTQK0ww\",\n",
    ")"
   ]
  },
  {
   "cell_type": "code",
   "execution_count": null,
   "metadata": {},
   "outputs": [],
   "source": [
    "dataset = client.datasets(\"my_dataset\")\n"
   ]
  }
 ],
 "metadata": {
  "language_info": {
   "name": "python"
  }
 },
 "nbformat": 4,
 "nbformat_minor": 2
}
